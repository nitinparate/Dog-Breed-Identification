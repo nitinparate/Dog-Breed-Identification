{
  "nbformat": 4,
  "nbformat_minor": 0,
  "metadata": {
    "colab": {
      "name": "DogBreed.ipynb",
      "provenance": [],
      "collapsed_sections": [],
      "toc_visible": true
    },
    "kernelspec": {
      "name": "python3",
      "display_name": "Python 3"
    },
    "accelerator": "GPU"
  },
  "cells": [
    {
      "cell_type": "code",
      "metadata": {
        "id": "V768WJDba8aV",
        "colab": {
          "base_uri": "https://localhost:8080/"
        },
        "outputId": "989fdbc1-bed3-454f-8c04-5ad029f8860b"
      },
      "source": [
        "! pip uninstall -y kaggle\n",
        "! pip install --upgrade -q kaggle"
      ],
      "execution_count": 1,
      "outputs": [
        {
          "output_type": "stream",
          "text": [
            "Uninstalling kaggle-1.5.10:\n",
            "  Successfully uninstalled kaggle-1.5.10\n",
            "\u001b[K     |████████████████████████████████| 61kB 8.7MB/s \n",
            "\u001b[?25h  Building wheel for kaggle (setup.py) ... \u001b[?25l\u001b[?25hdone\n"
          ],
          "name": "stdout"
        }
      ]
    },
    {
      "cell_type": "code",
      "metadata": {
        "id": "Q_NMOYyAbNDO",
        "colab": {
          "base_uri": "https://localhost:8080/"
        },
        "outputId": "a90a389d-d389-4964-b6e9-104548e00c85"
      },
      "source": [
        "! mkdir -p /root/.kaggle\n",
        "! cp kaggle.json /root/.kaggle/\n",
        "import kaggle"
      ],
      "execution_count": 2,
      "outputs": [
        {
          "output_type": "stream",
          "text": [
            "Warning: Your Kaggle API key is readable by other users on this system! To fix this, you can run 'chmod 600 /root/.kaggle/kaggle.json'\n"
          ],
          "name": "stdout"
        }
      ]
    },
    {
      "cell_type": "code",
      "metadata": {
        "id": "K2hNp5xRbW1J",
        "colab": {
          "base_uri": "https://localhost:8080/"
        },
        "outputId": "2ca42194-8999-44aa-fa19-9d476cbd5b42"
      },
      "source": [
        "! kaggle competitions download -c dog-breed-identification"
      ],
      "execution_count": 3,
      "outputs": [
        {
          "output_type": "stream",
          "text": [
            "Warning: Your Kaggle API key is readable by other users on this system! To fix this, you can run 'chmod 600 /root/.kaggle/kaggle.json'\n",
            "Downloading dog-breed-identification.zip to /content\n",
            " 98% 678M/691M [00:02<00:00, 283MB/s]\n",
            "100% 691M/691M [00:02<00:00, 270MB/s]\n"
          ],
          "name": "stdout"
        }
      ]
    },
    {
      "cell_type": "code",
      "metadata": {
        "id": "E-mX0Rdeb4-J"
      },
      "source": [
        "! unzip -q dog-breed-identification.zip"
      ],
      "execution_count": 4,
      "outputs": []
    },
    {
      "cell_type": "code",
      "metadata": {
        "id": "4nZ_QSV6b_uH"
      },
      "source": [
        "import pandas as pd\n",
        "import numpy as np\n",
        "import matplotlib.pyplot as plt\n",
        "import tensorflow as tf\n",
        "import os"
      ],
      "execution_count": 16,
      "outputs": []
    },
    {
      "cell_type": "code",
      "metadata": {
        "id": "98MsdqFCcIqt"
      },
      "source": [
        "labels = pd.read_csv(\"labels.csv\")"
      ],
      "execution_count": 17,
      "outputs": []
    },
    {
      "cell_type": "code",
      "metadata": {
        "id": "uAetv_S7chCC",
        "colab": {
          "base_uri": "https://localhost:8080/",
          "height": 191
        },
        "outputId": "4868a619-fd44-4f23-ee34-0b8ebe94eb27"
      },
      "source": [
        "labels.head()"
      ],
      "execution_count": 18,
      "outputs": [
        {
          "output_type": "execute_result",
          "data": {
            "text/html": [
              "<div>\n",
              "<style scoped>\n",
              "    .dataframe tbody tr th:only-of-type {\n",
              "        vertical-align: middle;\n",
              "    }\n",
              "\n",
              "    .dataframe tbody tr th {\n",
              "        vertical-align: top;\n",
              "    }\n",
              "\n",
              "    .dataframe thead th {\n",
              "        text-align: right;\n",
              "    }\n",
              "</style>\n",
              "<table border=\"1\" class=\"dataframe\">\n",
              "  <thead>\n",
              "    <tr style=\"text-align: right;\">\n",
              "      <th></th>\n",
              "      <th>id</th>\n",
              "      <th>breed</th>\n",
              "    </tr>\n",
              "  </thead>\n",
              "  <tbody>\n",
              "    <tr>\n",
              "      <th>0</th>\n",
              "      <td>000bec180eb18c7604dcecc8fe0dba07</td>\n",
              "      <td>boston_bull</td>\n",
              "    </tr>\n",
              "    <tr>\n",
              "      <th>1</th>\n",
              "      <td>001513dfcb2ffafc82cccf4d8bbaba97</td>\n",
              "      <td>dingo</td>\n",
              "    </tr>\n",
              "    <tr>\n",
              "      <th>2</th>\n",
              "      <td>001cdf01b096e06d78e9e5112d419397</td>\n",
              "      <td>pekinese</td>\n",
              "    </tr>\n",
              "    <tr>\n",
              "      <th>3</th>\n",
              "      <td>00214f311d5d2247d5dfe4fe24b2303d</td>\n",
              "      <td>bluetick</td>\n",
              "    </tr>\n",
              "    <tr>\n",
              "      <th>4</th>\n",
              "      <td>0021f9ceb3235effd7fcde7f7538ed62</td>\n",
              "      <td>golden_retriever</td>\n",
              "    </tr>\n",
              "  </tbody>\n",
              "</table>\n",
              "</div>"
            ],
            "text/plain": [
              "                                 id             breed\n",
              "0  000bec180eb18c7604dcecc8fe0dba07       boston_bull\n",
              "1  001513dfcb2ffafc82cccf4d8bbaba97             dingo\n",
              "2  001cdf01b096e06d78e9e5112d419397          pekinese\n",
              "3  00214f311d5d2247d5dfe4fe24b2303d          bluetick\n",
              "4  0021f9ceb3235effd7fcde7f7538ed62  golden_retriever"
            ]
          },
          "metadata": {
            "tags": []
          },
          "execution_count": 18
        }
      ]
    },
    {
      "cell_type": "code",
      "metadata": {
        "id": "Wribw0mzcj3U",
        "colab": {
          "base_uri": "https://localhost:8080/",
          "height": 532
        },
        "outputId": "140ef38e-241a-47c6-d340-6e1c852a7d68"
      },
      "source": [
        "plt.figure(figsize=(12, 6))\n",
        "labels.breed.value_counts().plot.bar()"
      ],
      "execution_count": 19,
      "outputs": [
        {
          "output_type": "execute_result",
          "data": {
            "text/plain": [
              "<matplotlib.axes._subplots.AxesSubplot at 0x7fad80253cc0>"
            ]
          },
          "metadata": {
            "tags": []
          },
          "execution_count": 19
        },
        {
          "output_type": "display_data",
          "data": {
            "image/png": "[encoded data removed]",
            "text/plain": [
              "<Figure size 864x432 with 1 Axes>"
            ]
          },
          "metadata": {
            "tags": [],
            "needs_background": "light"
          }
        }
      ]
    },
    {
      "cell_type": "code",
      "metadata": {
        "id": "dwAdgPqCcoSa"
      },
      "source": [
        "labels[\"id\"] = \"train/\" + labels[\"id\"] + \".jpg\""
      ],
      "execution_count": 20,
      "outputs": []
    },
    {
      "cell_type": "code",
      "metadata": {
        "id": "_J7L0XcRc8j7",
        "colab": {
          "base_uri": "https://localhost:8080/",
          "height": 191
        },
        "outputId": "0d3899f6-6610-49df-8d2c-2950c052a99b"
      },
      "source": [
        "labels.head()"
      ],
      "execution_count": 21,
      "outputs": [
        {
          "output_type": "execute_result",
          "data": {
            "text/html": [
              "<div>\n",
              "<style scoped>\n",
              "    .dataframe tbody tr th:only-of-type {\n",
              "        vertical-align: middle;\n",
              "    }\n",
              "\n",
              "    .dataframe tbody tr th {\n",
              "        vertical-align: top;\n",
              "    }\n",
              "\n",
              "    .dataframe thead th {\n",
              "        text-align: right;\n",
              "    }\n",
              "</style>\n",
              "<table border=\"1\" class=\"dataframe\">\n",
              "  <thead>\n",
              "    <tr style=\"text-align: right;\">\n",
              "      <th></th>\n",
              "      <th>id</th>\n",
              "      <th>breed</th>\n",
              "    </tr>\n",
              "  </thead>\n",
              "  <tbody>\n",
              "    <tr>\n",
              "      <th>0</th>\n",
              "      <td>train/000bec180eb18c7604dcecc8fe0dba07.jpg</td>\n",
              "      <td>boston_bull</td>\n",
              "    </tr>\n",
              "    <tr>\n",
              "      <th>1</th>\n",
              "      <td>train/001513dfcb2ffafc82cccf4d8bbaba97.jpg</td>\n",
              "      <td>dingo</td>\n",
              "    </tr>\n",
              "    <tr>\n",
              "      <th>2</th>\n",
              "      <td>train/001cdf01b096e06d78e9e5112d419397.jpg</td>\n",
              "      <td>pekinese</td>\n",
              "    </tr>\n",
              "    <tr>\n",
              "      <th>3</th>\n",
              "      <td>train/00214f311d5d2247d5dfe4fe24b2303d.jpg</td>\n",
              "      <td>bluetick</td>\n",
              "    </tr>\n",
              "    <tr>\n",
              "      <th>4</th>\n",
              "      <td>train/0021f9ceb3235effd7fcde7f7538ed62.jpg</td>\n",
              "      <td>golden_retriever</td>\n",
              "    </tr>\n",
              "  </tbody>\n",
              "</table>\n",
              "</div>"
            ],
            "text/plain": [
              "                                           id             breed\n",
              "0  train/000bec180eb18c7604dcecc8fe0dba07.jpg       boston_bull\n",
              "1  train/001513dfcb2ffafc82cccf4d8bbaba97.jpg             dingo\n",
              "2  train/001cdf01b096e06d78e9e5112d419397.jpg          pekinese\n",
              "3  train/00214f311d5d2247d5dfe4fe24b2303d.jpg          bluetick\n",
              "4  train/0021f9ceb3235effd7fcde7f7538ed62.jpg  golden_retriever"
            ]
          },
          "metadata": {
            "tags": []
          },
          "execution_count": 21
        }
      ]
    },
    {
      "cell_type": "code",
      "metadata": {
        "id": "ejFQT0tpc_pT"
      },
      "source": [
        "from tensorflow.keras.preprocessing.image import ImageDataGenerator\n",
        "from tensorflow.keras.applications import vgg16, VGG16"
      ],
      "execution_count": 34,
      "outputs": []
    },
    {
      "cell_type": "code",
      "metadata": {
        "id": "wWUidExzdI5f"
      },
      "source": [
        "idg = ImageDataGenerator(preprocessing_function=tf.keras.applications.vgg16.preprocess_input, validation_split=0.1, \r\n",
        "                         rotation_range=45, horizontal_flip=True)"
      ],
      "execution_count": 35,
      "outputs": []
    },
    {
      "cell_type": "code",
      "metadata": {
        "id": "1vuOSvDtdk6f",
        "colab": {
          "base_uri": "https://localhost:8080/"
        },
        "outputId": "0ceb1e77-dc53-436c-97a4-1373cd9734af"
      },
      "source": [
        "train_idg = idg.flow_from_dataframe(labels, x_col=\"id\", y_col=\"breed\", target_size=(224, 224), batch_size=128, subset=\"training\")\n",
        "val_idg   = idg.flow_from_dataframe(labels, x_col=\"id\", y_col=\"breed\", target_size=(224, 224), batch_size=128, subset=\"validation\")"
      ],
      "execution_count": 36,
      "outputs": [
        {
          "output_type": "stream",
          "text": [
            "Found 9200 validated image filenames belonging to 120 classes.\n",
            "Found 1022 validated image filenames belonging to 120 classes.\n"
          ],
          "name": "stdout"
        }
      ]
    },
    {
      "cell_type": "code",
      "metadata": {
        "id": "SMPXo7xdeBy4"
      },
      "source": [
        "vgg_model = tf.keras.applications.vgg16.VGG16()"
      ],
      "execution_count": 37,
      "outputs": []
    },
    {
      "cell_type": "code",
      "metadata": {
        "id": "iitSsCn4eU6D",
        "colab": {
          "base_uri": "https://localhost:8080/"
        },
        "outputId": "62a4ac66-ffe0-4d22-a5dc-ed920bd60fba"
      },
      "source": [
        "vgg_model.summary()"
      ],
      "execution_count": 38,
      "outputs": [
        {
          "output_type": "stream",
          "text": [
            "Model: \"vgg16\"\n",
            "_________________________________________________________________\n",
            "Layer (type)                 Output Shape              Param #   \n",
            "=================================================================\n",
            "input_3 (InputLayer)         [(None, 224, 224, 3)]     0         \n",
            "_________________________________________________________________\n",
            "block1_conv1 (Conv2D)        (None, 224, 224, 64)      1792      \n",
            "_________________________________________________________________\n",
            "block1_conv2 (Conv2D)        (None, 224, 224, 64)      36928     \n",
            "_________________________________________________________________\n",
            "block1_pool (MaxPooling2D)   (None, 112, 112, 64)      0         \n",
            "_________________________________________________________________\n",
            "block2_conv1 (Conv2D)        (None, 112, 112, 128)     73856     \n",
            "_________________________________________________________________\n",
            "block2_conv2 (Conv2D)        (None, 112, 112, 128)     147584    \n",
            "_________________________________________________________________\n",
            "block2_pool (MaxPooling2D)   (None, 56, 56, 128)       0         \n",
            "_________________________________________________________________\n",
            "block3_conv1 (Conv2D)        (None, 56, 56, 256)       295168    \n",
            "_________________________________________________________________\n",
            "block3_conv2 (Conv2D)        (None, 56, 56, 256)       590080    \n",
            "_________________________________________________________________\n",
            "block3_conv3 (Conv2D)        (None, 56, 56, 256)       590080    \n",
            "_________________________________________________________________\n",
            "block3_pool (MaxPooling2D)   (None, 28, 28, 256)       0         \n",
            "_________________________________________________________________\n",
            "block4_conv1 (Conv2D)        (None, 28, 28, 512)       1180160   \n",
            "_________________________________________________________________\n",
            "block4_conv2 (Conv2D)        (None, 28, 28, 512)       2359808   \n",
            "_________________________________________________________________\n",
            "block4_conv3 (Conv2D)        (None, 28, 28, 512)       2359808   \n",
            "_________________________________________________________________\n",
            "block4_pool (MaxPooling2D)   (None, 14, 14, 512)       0         \n",
            "_________________________________________________________________\n",
            "block5_conv1 (Conv2D)        (None, 14, 14, 512)       2359808   \n",
            "_________________________________________________________________\n",
            "block5_conv2 (Conv2D)        (None, 14, 14, 512)       2359808   \n",
            "_________________________________________________________________\n",
            "block5_conv3 (Conv2D)        (None, 14, 14, 512)       2359808   \n",
            "_________________________________________________________________\n",
            "block5_pool (MaxPooling2D)   (None, 7, 7, 512)         0         \n",
            "_________________________________________________________________\n",
            "flatten (Flatten)            (None, 25088)             0         \n",
            "_________________________________________________________________\n",
            "fc1 (Dense)                  (None, 4096)              102764544 \n",
            "_________________________________________________________________\n",
            "fc2 (Dense)                  (None, 4096)              16781312  \n",
            "_________________________________________________________________\n",
            "predictions (Dense)          (None, 1000)              4097000   \n",
            "=================================================================\n",
            "Total params: 138,357,544\n",
            "Trainable params: 138,357,544\n",
            "Non-trainable params: 0\n",
            "_________________________________________________________________\n"
          ],
          "name": "stdout"
        }
      ]
    },
    {
      "cell_type": "code",
      "metadata": {
        "id": "zMB-fwaMgJ0n"
      },
      "source": [
        "for layer in vgg_model.layers:\n",
        "    layer.trainable = False "
      ],
      "execution_count": 39,
      "outputs": []
    },
    {
      "cell_type": "code",
      "metadata": {
        "id": "wM4R0ECDfGMS"
      },
      "source": [
        "from tensorflow.keras.models     import Model\n",
        "from tensorflow.keras.layers     import Dense, Dropout, BatchNormalization\n",
        "from tensorflow.keras.optimizers import SGD, Adagrad\n",
        "from tensorflow.keras.losses     import categorical_crossentropy"
      ],
      "execution_count": 40,
      "outputs": []
    },
    {
      "cell_type": "code",
      "metadata": {
        "id": "2XUg761reev2"
      },
      "source": [
        "x = vgg_model.layers[-3].output\n",
        "x = BatchNormalization(trainable=False) (x)\n",
        "x = Dropout(0.5) (x)\n",
        "x = Dense(120, activation=\"softmax\")(x)"
      ],
      "execution_count": 41,
      "outputs": []
    },
    {
      "cell_type": "code",
      "metadata": {
        "id": "TxjAiLi9e41q"
      },
      "source": [
        "final_model = tf.keras.models.Model(inputs=vgg_model.input, outputs=x)"
      ],
      "execution_count": 42,
      "outputs": []
    },
    {
      "cell_type": "code",
      "metadata": {
        "id": "lGDVgRZzgxT9",
        "colab": {
          "base_uri": "https://localhost:8080/"
        },
        "outputId": "a7886807-4326-4bd7-dee8-06f9aa3a6a78"
      },
      "source": [
        "for layer in final_model.layers: \n",
        "    print(layer.name , layer.trainable)"
      ],
      "execution_count": 43,
      "outputs": [
        {
          "output_type": "stream",
          "text": [
            "input_3 False\n",
            "block1_conv1 False\n",
            "block1_conv2 False\n",
            "block1_pool False\n",
            "block2_conv1 False\n",
            "block2_conv2 False\n",
            "block2_pool False\n",
            "block3_conv1 False\n",
            "block3_conv2 False\n",
            "block3_conv3 False\n",
            "block3_pool False\n",
            "block4_conv1 False\n",
            "block4_conv2 False\n",
            "block4_conv3 False\n",
            "block4_pool False\n",
            "block5_conv1 False\n",
            "block5_conv2 False\n",
            "block5_conv3 False\n",
            "block5_pool False\n",
            "flatten False\n",
            "fc1 False\n",
            "batch_normalization_1 False\n",
            "dropout_1 True\n",
            "dense_1 True\n"
          ],
          "name": "stdout"
        }
      ]
    },
    {
      "cell_type": "code",
      "metadata": {
        "id": "rU7faNR-f6F7",
        "colab": {
          "base_uri": "https://localhost:8080/"
        },
        "outputId": "6117e40d-4fb6-4d11-ba2c-0d197a7e988e"
      },
      "source": [
        "final_model.summary()"
      ],
      "execution_count": 44,
      "outputs": [
        {
          "output_type": "stream",
          "text": [
            "Model: \"model_1\"\n",
            "_________________________________________________________________\n",
            "Layer (type)                 Output Shape              Param #   \n",
            "=================================================================\n",
            "input_3 (InputLayer)         [(None, 224, 224, 3)]     0         \n",
            "_________________________________________________________________\n",
            "block1_conv1 (Conv2D)        (None, 224, 224, 64)      1792      \n",
            "_________________________________________________________________\n",
            "block1_conv2 (Conv2D)        (None, 224, 224, 64)      36928     \n",
            "_________________________________________________________________\n",
            "block1_pool (MaxPooling2D)   (None, 112, 112, 64)      0         \n",
            "_________________________________________________________________\n",
            "block2_conv1 (Conv2D)        (None, 112, 112, 128)     73856     \n",
            "_________________________________________________________________\n",
            "block2_conv2 (Conv2D)        (None, 112, 112, 128)     147584    \n",
            "_________________________________________________________________\n",
            "block2_pool (MaxPooling2D)   (None, 56, 56, 128)       0         \n",
            "_________________________________________________________________\n",
            "block3_conv1 (Conv2D)        (None, 56, 56, 256)       295168    \n",
            "_________________________________________________________________\n",
            "block3_conv2 (Conv2D)        (None, 56, 56, 256)       590080    \n",
            "_________________________________________________________________\n",
            "block3_conv3 (Conv2D)        (None, 56, 56, 256)       590080    \n",
            "_________________________________________________________________\n",
            "block3_pool (MaxPooling2D)   (None, 28, 28, 256)       0         \n",
            "_________________________________________________________________\n",
            "block4_conv1 (Conv2D)        (None, 28, 28, 512)       1180160   \n",
            "_________________________________________________________________\n",
            "block4_conv2 (Conv2D)        (None, 28, 28, 512)       2359808   \n",
            "_________________________________________________________________\n",
            "block4_conv3 (Conv2D)        (None, 28, 28, 512)       2359808   \n",
            "_________________________________________________________________\n",
            "block4_pool (MaxPooling2D)   (None, 14, 14, 512)       0         \n",
            "_________________________________________________________________\n",
            "block5_conv1 (Conv2D)        (None, 14, 14, 512)       2359808   \n",
            "_________________________________________________________________\n",
            "block5_conv2 (Conv2D)        (None, 14, 14, 512)       2359808   \n",
            "_________________________________________________________________\n",
            "block5_conv3 (Conv2D)        (None, 14, 14, 512)       2359808   \n",
            "_________________________________________________________________\n",
            "block5_pool (MaxPooling2D)   (None, 7, 7, 512)         0         \n",
            "_________________________________________________________________\n",
            "flatten (Flatten)            (None, 25088)             0         \n",
            "_________________________________________________________________\n",
            "fc1 (Dense)                  (None, 4096)              102764544 \n",
            "_________________________________________________________________\n",
            "batch_normalization_1 (Batch (None, 4096)              16384     \n",
            "_________________________________________________________________\n",
            "dropout_1 (Dropout)          (None, 4096)              0         \n",
            "_________________________________________________________________\n",
            "dense_1 (Dense)              (None, 120)               491640    \n",
            "=================================================================\n",
            "Total params: 117,987,256\n",
            "Trainable params: 491,640\n",
            "Non-trainable params: 117,495,616\n",
            "_________________________________________________________________\n"
          ],
          "name": "stdout"
        }
      ]
    },
    {
      "cell_type": "code",
      "metadata": {
        "id": "2a52xueMg_qK",
        "colab": {
          "base_uri": "https://localhost:8080/"
        },
        "outputId": "b0c98fcb-49e5-4c65-90a8-49d9e0ae6fdf"
      },
      "source": [
        "final_model.compile(\"adagrad\", loss=tf.keras.losses.categorical_crossentropy, metrics=[\"acc\"])\n",
        "final_model_his = final_model.fit_generator(train_idg, epochs=30, validation_data=val_idg)"
      ],
      "execution_count": 49,
      "outputs": [
        {
          "output_type": "stream",
          "text": [
            "/usr/local/lib/python3.6/dist-packages/tensorflow/python/keras/engine/training.py:1844: UserWarning: `Model.fit_generator` is deprecated and will be removed in a future version. Please use `Model.fit`, which supports generators.\n",
            "  warnings.warn('`Model.fit_generator` is deprecated and '\n"
          ],
          "name": "stderr"
        },
        {
          "output_type": "stream",
          "text": [
            "Epoch 1/30\n",
            "72/72 [==============================] - 144s 2s/step - loss: 18.1667 - acc: 0.0305 - val_loss: 6.5907 - val_acc: 0.1898\n",
            "Epoch 2/30\n",
            "72/72 [==============================] - 137s 2s/step - loss: 11.4460 - acc: 0.1109 - val_loss: 4.8484 - val_acc: 0.3170\n",
            "Epoch 3/30\n",
            "72/72 [==============================] - 137s 2s/step - loss: 9.2764 - acc: 0.1836 - val_loss: 4.4601 - val_acc: 0.3444\n",
            "Epoch 4/30\n",
            "72/72 [==============================] - 137s 2s/step - loss: 8.2566 - acc: 0.2302 - val_loss: 4.0726 - val_acc: 0.4070\n",
            "Epoch 5/30\n",
            "72/72 [==============================] - 136s 2s/step - loss: 7.5002 - acc: 0.2683 - val_loss: 3.7689 - val_acc: 0.4188\n",
            "Epoch 6/30\n",
            "72/72 [==============================] - 136s 2s/step - loss: 7.0673 - acc: 0.2872 - val_loss: 3.6373 - val_acc: 0.4462\n",
            "Epoch 7/30\n",
            "72/72 [==============================] - 135s 2s/step - loss: 6.6848 - acc: 0.3184 - val_loss: 3.5591 - val_acc: 0.4628\n",
            "Epoch 8/30\n",
            "72/72 [==============================] - 137s 2s/step - loss: 6.3938 - acc: 0.3346 - val_loss: 3.2819 - val_acc: 0.4843\n",
            "Epoch 9/30\n",
            "72/72 [==============================] - 137s 2s/step - loss: 6.0539 - acc: 0.3502 - val_loss: 3.2266 - val_acc: 0.4961\n",
            "Epoch 10/30\n",
            "72/72 [==============================] - 136s 2s/step - loss: 5.7497 - acc: 0.3659 - val_loss: 3.2905 - val_acc: 0.4971\n",
            "Epoch 11/30\n",
            "72/72 [==============================] - 136s 2s/step - loss: 5.6277 - acc: 0.3810 - val_loss: 3.1514 - val_acc: 0.5000\n",
            "Epoch 12/30\n",
            "72/72 [==============================] - 135s 2s/step - loss: 5.4364 - acc: 0.3953 - val_loss: 3.1631 - val_acc: 0.5059\n",
            "Epoch 13/30\n",
            "72/72 [==============================] - 135s 2s/step - loss: 5.3296 - acc: 0.3980 - val_loss: 3.1727 - val_acc: 0.5225\n",
            "Epoch 14/30\n",
            "72/72 [==============================] - 135s 2s/step - loss: 5.1414 - acc: 0.4043 - val_loss: 3.1944 - val_acc: 0.5342\n",
            "Epoch 15/30\n",
            "72/72 [==============================] - 137s 2s/step - loss: 5.0288 - acc: 0.4223 - val_loss: 2.9788 - val_acc: 0.5421\n",
            "Epoch 16/30\n",
            "72/72 [==============================] - 136s 2s/step - loss: 4.9185 - acc: 0.4192 - val_loss: 3.0039 - val_acc: 0.5411\n",
            "Epoch 17/30\n",
            "72/72 [==============================] - 136s 2s/step - loss: 4.8615 - acc: 0.4356 - val_loss: 3.1058 - val_acc: 0.5509\n",
            "Epoch 18/30\n",
            "72/72 [==============================] - 136s 2s/step - loss: 4.7817 - acc: 0.4494 - val_loss: 2.9269 - val_acc: 0.5587\n",
            "Epoch 19/30\n",
            "72/72 [==============================] - 136s 2s/step - loss: 4.5070 - acc: 0.4581 - val_loss: 3.0043 - val_acc: 0.5421\n",
            "Epoch 20/30\n",
            "72/72 [==============================] - 136s 2s/step - loss: 4.5647 - acc: 0.4535 - val_loss: 3.0187 - val_acc: 0.5440\n",
            "Epoch 21/30\n",
            "72/72 [==============================] - 136s 2s/step - loss: 4.5131 - acc: 0.4650 - val_loss: 2.9538 - val_acc: 0.5479\n",
            "Epoch 22/30\n",
            "72/72 [==============================] - 136s 2s/step - loss: 4.3447 - acc: 0.4670 - val_loss: 3.0328 - val_acc: 0.5411\n",
            "Epoch 23/30\n",
            "72/72 [==============================] - 136s 2s/step - loss: 4.3459 - acc: 0.4748 - val_loss: 2.8249 - val_acc: 0.5587\n",
            "Epoch 24/30\n",
            "72/72 [==============================] - 136s 2s/step - loss: 4.3492 - acc: 0.4762 - val_loss: 2.8527 - val_acc: 0.5597\n",
            "Epoch 25/30\n",
            "72/72 [==============================] - 136s 2s/step - loss: 4.2450 - acc: 0.4831 - val_loss: 2.9213 - val_acc: 0.5528\n",
            "Epoch 26/30\n",
            "72/72 [==============================] - 136s 2s/step - loss: 4.1058 - acc: 0.4858 - val_loss: 2.6955 - val_acc: 0.5793\n",
            "Epoch 27/30\n",
            "72/72 [==============================] - 136s 2s/step - loss: 4.1340 - acc: 0.4941 - val_loss: 2.8928 - val_acc: 0.5538\n",
            "Epoch 28/30\n",
            "72/72 [==============================] - 136s 2s/step - loss: 4.0624 - acc: 0.5029 - val_loss: 2.8436 - val_acc: 0.5616\n",
            "Epoch 29/30\n",
            "72/72 [==============================] - 136s 2s/step - loss: 4.1293 - acc: 0.4914 - val_loss: 2.9697 - val_acc: 0.5607\n",
            "Epoch 30/30\n",
            "72/72 [==============================] - 136s 2s/step - loss: 3.9745 - acc: 0.5046 - val_loss: 2.9374 - val_acc: 0.5675\n"
          ],
          "name": "stdout"
        }
      ]
    },
    {
      "cell_type": "code",
      "metadata": {
        "id": "xeD_edvDWkrT",
        "colab": {
          "base_uri": "https://localhost:8080/",
          "height": 297
        },
        "outputId": "d953b435-9286-4c81-f183-2e7c3839506f"
      },
      "source": [
        "plt.plot(final_model_his.history[\"acc\"],\"b*-\",label=\"Accuracy\")\n",
        "plt.plot(final_model_his.history[\"val_acc\"],\"r\",label=\"Validation Accuracy\")\n",
        "plt.title('Training Vs Validation Accuracy')\n",
        "plt.legend()"
      ],
      "execution_count": 50,
      "outputs": [
        {
          "output_type": "execute_result",
          "data": {
            "text/plain": [
              "<matplotlib.legend.Legend at 0x7fad80250c18>"
            ]
          },
          "metadata": {
            "tags": []
          },
          "execution_count": 50
        },
        {
          "output_type": "display_data",
          "data": {
            "image/png": "[encoded data removed]",
            "text/plain": [
              "<Figure size 432x288 with 1 Axes>"
            ]
          },
          "metadata": {
            "tags": [],
            "needs_background": "light"
          }
        }
      ]
    },
    {
      "cell_type": "code",
      "metadata": {
        "colab": {
          "base_uri": "https://localhost:8080/",
          "height": 297
        },
        "id": "kCh-7Zsi_9rg",
        "outputId": "bede28ab-5bd9-44fa-a7af-c5ac020d1118"
      },
      "source": [
        "plt.plot(final_model_his.history[\"loss\"],\"b*-\",label=\"Loss\")\r\n",
        "plt.plot(final_model_his.history[\"val_loss\"],\"r\",label=\"Validation Loss\")\r\n",
        "plt.title('Training Vs Validation Loss')\r\n",
        "plt.legend()"
      ],
      "execution_count": 51,
      "outputs": [
        {
          "output_type": "execute_result",
          "data": {
            "text/plain": [
              "<matplotlib.legend.Legend at 0x7fad2de46e48>"
            ]
          },
          "metadata": {
            "tags": []
          },
          "execution_count": 51
        },
        {
          "output_type": "display_data",
          "data": {
            "image/png": "[encoded data removed]",
            "text/plain": [
              "<Figure size 432x288 with 1 Axes>"
            ]
          },
          "metadata": {
            "tags": [],
            "needs_background": "light"
          }
        }
      ]
    },
    {
      "cell_type": "code",
      "metadata": {
        "id": "JaOAnxc6yDYz"
      },
      "source": [
        ""
      ],
      "execution_count": null,
      "outputs": []
    },
    {
      "cell_type": "code",
      "metadata": {
        "colab": {
          "base_uri": "https://localhost:8080/"
        },
        "id": "HvcGZr05BFi0",
        "outputId": "9f7b74b2-965c-4876-e041-9725a2c43caf"
      },
      "source": [
        "del final_model\r\n",
        "x = vgg_model.layers[-3].output\r\n",
        "x = tf.keras.layers.BatchNormalization(trainable=False) (x)\r\n",
        "x = tf.keras.layers.Dropout(0.5) (x)\r\n",
        "x = tf.keras.layers.Dense(120, activation=\"softmax\")(x)\r\n",
        "\r\n",
        "final_model = tf.keras.models.Model(inputs=vgg_model.input, outputs=x)\r\n",
        "final_model.compile(optimizer=tf.keras.optimizers.SGD(learning_rate=0.005), loss=tf.keras.losses.categorical_crossentropy, metrics=[\"acc\"])\r\n",
        "final_model_his = final_model.fit_generator(train_idg, epochs=30, validation_data=val_idg)"
      ],
      "execution_count": 52,
      "outputs": [
        {
          "output_type": "stream",
          "text": [
            "/usr/local/lib/python3.6/dist-packages/tensorflow/python/keras/engine/training.py:1844: UserWarning: `Model.fit_generator` is deprecated and will be removed in a future version. Please use `Model.fit`, which supports generators.\n",
            "  warnings.warn('`Model.fit_generator` is deprecated and '\n"
          ],
          "name": "stderr"
        },
        {
          "output_type": "stream",
          "text": [
            "Epoch 1/30\n",
            "72/72 [==============================] - 137s 2s/step - loss: 15.3358 - acc: 0.0854 - val_loss: 3.8851 - val_acc: 0.4501\n",
            "Epoch 2/30\n",
            "72/72 [==============================] - 135s 2s/step - loss: 6.5775 - acc: 0.3620 - val_loss: 3.4849 - val_acc: 0.5274\n",
            "Epoch 3/30\n",
            "72/72 [==============================] - 135s 2s/step - loss: 5.0558 - acc: 0.4568 - val_loss: 3.1591 - val_acc: 0.5499\n",
            "Epoch 4/30\n",
            "72/72 [==============================] - 134s 2s/step - loss: 4.4499 - acc: 0.4986 - val_loss: 3.0108 - val_acc: 0.5675\n",
            "Epoch 5/30\n",
            "72/72 [==============================] - 135s 2s/step - loss: 3.9876 - acc: 0.5472 - val_loss: 2.9429 - val_acc: 0.6047\n",
            "Epoch 6/30\n",
            "72/72 [==============================] - 135s 2s/step - loss: 3.4206 - acc: 0.5876 - val_loss: 2.9785 - val_acc: 0.6018\n",
            "Epoch 7/30\n",
            "72/72 [==============================] - 135s 2s/step - loss: 3.3464 - acc: 0.5917 - val_loss: 3.0222 - val_acc: 0.5988\n",
            "Epoch 8/30\n",
            "72/72 [==============================] - 134s 2s/step - loss: 3.0304 - acc: 0.6175 - val_loss: 2.8869 - val_acc: 0.5881\n",
            "Epoch 9/30\n",
            "72/72 [==============================] - 135s 2s/step - loss: 2.7952 - acc: 0.6324 - val_loss: 2.9545 - val_acc: 0.6008\n",
            "Epoch 10/30\n",
            "72/72 [==============================] - 135s 2s/step - loss: 2.7044 - acc: 0.6492 - val_loss: 2.8856 - val_acc: 0.6213\n",
            "Epoch 11/30\n",
            "72/72 [==============================] - 135s 2s/step - loss: 2.4969 - acc: 0.6593 - val_loss: 2.9257 - val_acc: 0.6115\n",
            "Epoch 12/30\n",
            "72/72 [==============================] - 135s 2s/step - loss: 2.4150 - acc: 0.6689 - val_loss: 3.0357 - val_acc: 0.6164\n",
            "Epoch 13/30\n",
            "72/72 [==============================] - 135s 2s/step - loss: 2.2531 - acc: 0.6795 - val_loss: 2.7951 - val_acc: 0.6164\n",
            "Epoch 14/30\n",
            "72/72 [==============================] - 134s 2s/step - loss: 2.1612 - acc: 0.6830 - val_loss: 2.9704 - val_acc: 0.6155\n",
            "Epoch 15/30\n",
            "72/72 [==============================] - 134s 2s/step - loss: 1.9682 - acc: 0.7011 - val_loss: 2.7421 - val_acc: 0.6184\n",
            "Epoch 16/30\n",
            "72/72 [==============================] - 134s 2s/step - loss: 1.9796 - acc: 0.6998 - val_loss: 2.7295 - val_acc: 0.6213\n",
            "Epoch 17/30\n",
            "72/72 [==============================] - 134s 2s/step - loss: 1.9458 - acc: 0.7046 - val_loss: 2.9131 - val_acc: 0.6301\n",
            "Epoch 18/30\n",
            "72/72 [==============================] - 133s 2s/step - loss: 1.7924 - acc: 0.7261 - val_loss: 2.9222 - val_acc: 0.6223\n",
            "Epoch 19/30\n",
            "72/72 [==============================] - 133s 2s/step - loss: 1.7293 - acc: 0.7315 - val_loss: 2.9581 - val_acc: 0.6076\n",
            "Epoch 20/30\n",
            "72/72 [==============================] - 134s 2s/step - loss: 1.6283 - acc: 0.7345 - val_loss: 2.8929 - val_acc: 0.6204\n",
            "Epoch 21/30\n",
            "72/72 [==============================] - 133s 2s/step - loss: 1.6086 - acc: 0.7410 - val_loss: 2.9468 - val_acc: 0.6125\n",
            "Epoch 22/30\n",
            "72/72 [==============================] - 134s 2s/step - loss: 1.5926 - acc: 0.7456 - val_loss: 2.8809 - val_acc: 0.6389\n",
            "Epoch 23/30\n",
            "72/72 [==============================] - 133s 2s/step - loss: 1.5147 - acc: 0.7532 - val_loss: 2.9244 - val_acc: 0.6233\n",
            "Epoch 24/30\n",
            "72/72 [==============================] - 134s 2s/step - loss: 1.4951 - acc: 0.7555 - val_loss: 2.8012 - val_acc: 0.6272\n",
            "Epoch 25/30\n",
            "72/72 [==============================] - 133s 2s/step - loss: 1.3913 - acc: 0.7643 - val_loss: 2.7018 - val_acc: 0.6164\n",
            "Epoch 26/30\n",
            "72/72 [==============================] - 133s 2s/step - loss: 1.3246 - acc: 0.7672 - val_loss: 2.7789 - val_acc: 0.6350\n",
            "Epoch 27/30\n",
            "72/72 [==============================] - 133s 2s/step - loss: 1.3096 - acc: 0.7724 - val_loss: 2.7780 - val_acc: 0.6262\n",
            "Epoch 28/30\n",
            "72/72 [==============================] - 133s 2s/step - loss: 1.3339 - acc: 0.7716 - val_loss: 2.9828 - val_acc: 0.6204\n",
            "Epoch 29/30\n",
            "72/72 [==============================] - 133s 2s/step - loss: 1.2434 - acc: 0.7853 - val_loss: 2.9953 - val_acc: 0.6115\n",
            "Epoch 30/30\n",
            "72/72 [==============================] - 133s 2s/step - loss: 1.2719 - acc: 0.7663 - val_loss: 2.8725 - val_acc: 0.6194\n"
          ],
          "name": "stdout"
        }
      ]
    },
    {
      "cell_type": "code",
      "metadata": {
        "id": "iw5YChISpBZh",
        "colab": {
          "base_uri": "https://localhost:8080/",
          "height": 297
        },
        "outputId": "95a4df86-64c4-41a1-85a0-d682ff218e31"
      },
      "source": [
        "plt.plot(final_model_his.history[\"acc\"],\"b*-\",label=\"Accuracy\")\r\n",
        "plt.plot(final_model_his.history[\"val_acc\"],\"r\",label=\"Validation Accuracy\")\r\n",
        "plt.title('Training Vs Validation Accuracy')\r\n",
        "plt.legend()"
      ],
      "execution_count": 53,
      "outputs": [
        {
          "output_type": "execute_result",
          "data": {
            "text/plain": [
              "<matplotlib.legend.Legend at 0x7fad360d4828>"
            ]
          },
          "metadata": {
            "tags": []
          },
          "execution_count": 53
        },
        {
          "output_type": "display_data",
          "data": {
            "image/png": "[encoded data removed]",
            "text/plain": [
              "<Figure size 432x288 with 1 Axes>"
            ]
          },
          "metadata": {
            "tags": [],
            "needs_background": "light"
          }
        }
      ]
    },
    {
      "cell_type": "code",
      "metadata": {
        "colab": {
          "base_uri": "https://localhost:8080/",
          "height": 297
        },
        "id": "N_GhHtn5B6sN",
        "outputId": "6cec278c-4f85-4e02-d591-0feea589a8d1"
      },
      "source": [
        "plt.plot(final_model_his.history[\"loss\"],\"b*-\",label=\"Loss\")\r\n",
        "plt.plot(final_model_his.history[\"val_loss\"],\"r\",label=\"Validation Loss\")\r\n",
        "plt.title('Training Vs Validation Loss')\r\n",
        "plt.legend()"
      ],
      "execution_count": 54,
      "outputs": [
        {
          "output_type": "execute_result",
          "data": {
            "text/plain": [
              "<matplotlib.legend.Legend at 0x7fad360595f8>"
            ]
          },
          "metadata": {
            "tags": []
          },
          "execution_count": 54
        },
        {
          "output_type": "display_data",
          "data": {
            "image/png": "[encoded data removed]",
            "text/plain": [
              "<Figure size 432x288 with 1 Axes>"
            ]
          },
          "metadata": {
            "tags": [],
            "needs_background": "light"
          }
        }
      ]
    },
    {
      "cell_type": "markdown",
      "metadata": {
        "id": "9dy-HRCTo-8d"
      },
      "source": [
        "### VGG, SGD, Dropout 0.3\n",
        "\n",
        "Epoch 1/10\n",
        "288/288 [==============================] - 97s 337ms/step - loss: 2.2552 - acc: 0.4905 - val_loss: 1.1992 - val_acc: 0.6614\n",
        "Epoch 2/10\n",
        "288/288 [==============================] - 94s 325ms/step - loss: 1.0742 - acc: 0.7035 - val_loss: 1.1244 - val_acc: 0.6820\n",
        "Epoch 3/10\n",
        "288/288 [==============================] - 93s 325ms/step - loss: 0.8020 - acc: 0.7593 - val_loss: 1.0951 - val_acc: 0.7084\n",
        "Epoch 4/10\n",
        "288/288 [==============================] - 94s 325ms/step - loss: 0.6203 - acc: 0.8047 - val_loss: 1.1365 - val_acc: 0.7114\n",
        "Epoch 5/10\n",
        "288/288 [==============================] - 93s 323ms/step - loss: 0.5034 - acc: 0.8368 - val_loss: 1.0933 - val_acc: 0.7143\n",
        "Epoch 6/10\n",
        "288/288 [==============================] - 93s 325ms/step - loss: 0.4238 - acc: 0.8601 - val_loss: 1.0705 - val_acc: 0.7221\n",
        "Epoch 7/10\n",
        "288/288 [==============================] - 94s 325ms/step - loss: 0.3499 - acc: 0.8847 - val_loss: 1.0463 - val_acc: 0.7211\n",
        "Epoch 8/10\n",
        "288/288 [==============================] - 93s 324ms/step - loss: 0.2971 - acc: 0.9007 - val_loss: 1.0972 - val_acc: 0.7153\n",
        "Epoch 9/10\n",
        "288/288 [==============================] - 93s 324ms/step - loss: 0.2501 - acc: 0.9201 - val_loss: 1.0951 - val_acc: 0.7182\n",
        "Epoch 10/10\n",
        "288/288 [==============================] - 93s 324ms/step - loss: 0.2357 - acc: 0.9229 - val_loss: 1.0782 - val_acc: 0.7172\n"
      ]
    },
    {
      "cell_type": "markdown",
      "metadata": {
        "id": "VugALeIrvI4m"
      },
      "source": [
        "### VGG, SGD, Dropout 0.5\n",
        "\n",
        "Epoch 1/10\n",
        "288/288 [==============================] - 97s 338ms/step - loss: 2.0115 - acc: 0.5627 - val_loss: 1.2906 - val_acc: 0.6703\n",
        "Epoch 2/10\n",
        "288/288 [==============================] - 94s 325ms/step - loss: 1.3496 - acc: 0.6729 - val_loss: 1.2731 - val_acc: 0.6859\n",
        "Epoch 3/10\n",
        "288/288 [==============================] - 93s 324ms/step - loss: 1.1071 - acc: 0.7189 - val_loss: 1.3088 - val_acc: 0.6918\n",
        "Epoch 4/10\n",
        "288/288 [==============================] - 93s 324ms/step - loss: 0.8868 - acc: 0.7645 - val_loss: 1.1902 - val_acc: 0.7045\n",
        "Epoch 5/10\n",
        "288/288 [==============================] - 93s 324ms/step - loss: 0.7530 - acc: 0.7868 - val_loss: 1.2589 - val_acc: 0.7172\n",
        "Epoch 6/10\n",
        "288/288 [==============================] - 93s 325ms/step - loss: 0.6513 - acc: 0.8092 - val_loss: 1.1751 - val_acc: 0.7241\n",
        "Epoch 7/10\n",
        "288/288 [==============================] - 93s 324ms/step - loss: 0.5706 - acc: 0.8308 - val_loss: 1.2395 - val_acc: 0.7250\n",
        "Epoch 8/10\n",
        "288/288 [==============================] - 93s 324ms/step - loss: 0.5172 - acc: 0.8388 - val_loss: 1.2310 - val_acc: 0.7114\n",
        "Epoch 9/10\n",
        "288/288 [==============================] - 93s 323ms/step - loss: 0.4628 - acc: 0.8568 - val_loss: 1.2077 - val_acc: 0.7280\n",
        "Epoch 10/10\n",
        "288/288 [==============================] - 93s 324ms/step - loss: 0.4121 - acc: 0.8638 - val_loss: 1.2070 - val_acc: 0.7339"
      ]
    },
    {
      "cell_type": "markdown",
      "metadata": {
        "id": "ViS7piM7wEwp"
      },
      "source": [
        "### VGG, SGD(0.005), Dropout 0.5\n",
        "\n",
        "Epoch 1/10\n",
        "288/288 [==============================] - 98s 340ms/step - loss: 7.3447 - acc: 0.2071 - val_loss: 2.2872 - val_acc: 0.4951\n",
        "Epoch 2/10\n",
        "288/288 [==============================] - 93s 324ms/step - loss: 2.7564 - acc: 0.4055 - val_loss: 1.7904 - val_acc: 0.5822\n",
        "Epoch 3/10\n",
        "288/288 [==============================] - 93s 323ms/step - loss: 2.2900 - acc: 0.4695 - val_loss: 1.5896 - val_acc: 0.6243\n",
        "Epoch 4/10\n",
        "288/288 [==============================] - 93s 322ms/step - loss: 1.9500 - acc: 0.5291 - val_loss: 1.4255 - val_acc: 0.6448\n",
        "Epoch 5/10\n",
        "288/288 [==============================] - 93s 322ms/step - loss: 1.7500 - acc: 0.5668 - val_loss: 1.3396 - val_acc: 0.6654\n",
        "Epoch 6/10\n",
        "288/288 [==============================] - 93s 323ms/step - loss: 1.6118 - acc: 0.5910 - val_loss: 1.2927 - val_acc: 0.6742\n",
        "Epoch 7/10\n",
        "288/288 [==============================] - 93s 322ms/step - loss: 1.4624 - acc: 0.6291 - val_loss: 1.2849 - val_acc: 0.6595\n",
        "Epoch 8/10\n",
        "288/288 [==============================] - 93s 323ms/step - loss: 1.3763 - acc: 0.6392 - val_loss: 1.2418 - val_acc: 0.6742\n",
        "Epoch 9/10\n",
        "288/288 [==============================] - 93s 323ms/step - loss: 1.2695 - acc: 0.6574 - val_loss: 1.2055 - val_acc: 0.6859\n",
        "Epoch 10/10\n",
        "288/288 [==============================] - 93s 322ms/step - loss: 1.2065 - acc: 0.6747 - val_loss: 1.1969 - val_acc: 0.6771"
      ]
    },
    {
      "cell_type": "markdown",
      "metadata": {
        "id": "7HlJkKV00s2r"
      },
      "source": [
        "### VGG, SGD(0.005), Dropout 0.5\n",
        "\n",
        "Epoch 1/30\n",
        "288/288 [==============================] - 97s 337ms/step - loss: 3.3407 - acc: 0.3476 - val_loss: 1.1861 - val_acc: 0.6624\n",
        "Epoch 2/30\n",
        "288/288 [==============================] - 93s 324ms/step - loss: 1.5737 - acc: 0.6062 - val_loss: 1.0799 - val_acc: 0.6732\n",
        "Epoch 3/30\n",
        "288/288 [==============================] - 93s 324ms/step - loss: 1.2610 - acc: 0.6636 - val_loss: 1.0170 - val_acc: 0.7035\n",
        "Epoch 4/30\n",
        "288/288 [==============================] - 93s 324ms/step - loss: 1.0806 - acc: 0.6998 - val_loss: 0.9867 - val_acc: 0.7231\n",
        "Epoch 5/30\n",
        "288/288 [==============================] - 93s 324ms/step - loss: 0.9417 - acc: 0.7360 - val_loss: 1.0046 - val_acc: 0.7182\n",
        "Epoch 6/30\n",
        "288/288 [==============================] - 93s 324ms/step - loss: 0.8415 - acc: 0.7554 - val_loss: 1.0021 - val_acc: 0.7221\n",
        "Epoch 7/30\n",
        "288/288 [==============================] - 94s 326ms/step - loss: 0.7585 - acc: 0.7762 - val_loss: 1.0033 - val_acc: 0.7368\n",
        "Epoch 8/30\n",
        "288/288 [==============================] - 93s 324ms/step - loss: 0.6682 - acc: 0.7966 - val_loss: 1.0137 - val_acc: 0.7299\n",
        "Epoch 9/30\n",
        "288/288 [==============================] - 93s 324ms/step - loss: 0.6283 - acc: 0.8088 - val_loss: 0.9686 - val_acc: 0.7417\n",
        "Epoch 10/30\n",
        "288/288 [==============================] - 93s 323ms/step - loss: 0.5683 - acc: 0.8236 - val_loss: 0.9872 - val_acc: 0.7319"
      ]
    },
    {
      "cell_type": "code",
      "metadata": {
        "id": "42XBLKe4WvtM"
      },
      "source": [
        "# How to remove Overfitting \n",
        "# 1. Increase the data \n",
        "# 2. Decrese the network capacity \n",
        "# 3. Introduction of Dropout & BatchNormalization\n",
        "# 4. Control LR"
      ],
      "execution_count": null,
      "outputs": []
    },
    {
      "cell_type": "code",
      "metadata": {
        "id": "AWIWhjwIiVC3"
      },
      "source": [
        ""
      ],
      "execution_count": null,
      "outputs": []
    }
  ]
}